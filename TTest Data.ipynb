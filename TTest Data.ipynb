{
 "cells": [
  {
   "cell_type": "code",
   "execution_count": 1,
   "metadata": {},
   "outputs": [
    {
     "data": {
      "text/html": [
       "<div>\n",
       "<style scoped>\n",
       "    .dataframe tbody tr th:only-of-type {\n",
       "        vertical-align: middle;\n",
       "    }\n",
       "\n",
       "    .dataframe tbody tr th {\n",
       "        vertical-align: top;\n",
       "    }\n",
       "\n",
       "    .dataframe thead th {\n",
       "        text-align: right;\n",
       "    }\n",
       "</style>\n",
       "<table border=\"1\" class=\"dataframe\">\n",
       "  <thead>\n",
       "    <tr style=\"text-align: right;\">\n",
       "      <th></th>\n",
       "      <th>total_bill</th>\n",
       "      <th>tip</th>\n",
       "      <th>sex</th>\n",
       "      <th>smoker</th>\n",
       "      <th>day</th>\n",
       "      <th>time</th>\n",
       "      <th>size</th>\n",
       "    </tr>\n",
       "  </thead>\n",
       "  <tbody>\n",
       "    <tr>\n",
       "      <th>0</th>\n",
       "      <td>16.99</td>\n",
       "      <td>1.01</td>\n",
       "      <td>Female</td>\n",
       "      <td>No</td>\n",
       "      <td>Sun</td>\n",
       "      <td>Dinner</td>\n",
       "      <td>2</td>\n",
       "    </tr>\n",
       "    <tr>\n",
       "      <th>1</th>\n",
       "      <td>10.34</td>\n",
       "      <td>1.66</td>\n",
       "      <td>Male</td>\n",
       "      <td>No</td>\n",
       "      <td>Sun</td>\n",
       "      <td>Dinner</td>\n",
       "      <td>3</td>\n",
       "    </tr>\n",
       "    <tr>\n",
       "      <th>2</th>\n",
       "      <td>21.01</td>\n",
       "      <td>3.50</td>\n",
       "      <td>Male</td>\n",
       "      <td>No</td>\n",
       "      <td>Sun</td>\n",
       "      <td>Dinner</td>\n",
       "      <td>3</td>\n",
       "    </tr>\n",
       "    <tr>\n",
       "      <th>3</th>\n",
       "      <td>23.68</td>\n",
       "      <td>3.31</td>\n",
       "      <td>Male</td>\n",
       "      <td>No</td>\n",
       "      <td>Sun</td>\n",
       "      <td>Dinner</td>\n",
       "      <td>2</td>\n",
       "    </tr>\n",
       "    <tr>\n",
       "      <th>4</th>\n",
       "      <td>24.59</td>\n",
       "      <td>3.61</td>\n",
       "      <td>Female</td>\n",
       "      <td>No</td>\n",
       "      <td>Sun</td>\n",
       "      <td>Dinner</td>\n",
       "      <td>4</td>\n",
       "    </tr>\n",
       "  </tbody>\n",
       "</table>\n",
       "</div>"
      ],
      "text/plain": [
       "   total_bill   tip     sex smoker  day    time  size\n",
       "0       16.99  1.01  Female     No  Sun  Dinner     2\n",
       "1       10.34  1.66    Male     No  Sun  Dinner     3\n",
       "2       21.01  3.50    Male     No  Sun  Dinner     3\n",
       "3       23.68  3.31    Male     No  Sun  Dinner     2\n",
       "4       24.59  3.61  Female     No  Sun  Dinner     4"
      ]
     },
     "execution_count": 1,
     "metadata": {},
     "output_type": "execute_result"
    }
   ],
   "source": [
    "import numpy as np\n",
    "import pandas as pd\n",
    "from matplotlib import pyplot as plt\n",
    "import seaborn as sns\n",
    "from scipy import stats\n",
    "import statistics as st\n",
    "df=sns.load_dataset(\"tips\")\n",
    "df.head()"
   ]
  },
  {
   "cell_type": "code",
   "execution_count": 2,
   "metadata": {},
   "outputs": [
    {
     "data": {
      "text/plain": [
       "<function matplotlib.pyplot.show(close=None, block=None)>"
      ]
     },
     "execution_count": 2,
     "metadata": {},
     "output_type": "execute_result"
    },
    {
     "data": {
      "image/png": "[encoded data removed]",
      "text/plain": [
       "<Figure size 360x360 with 1 Axes>"
      ]
     },
     "metadata": {
      "needs_background": "light"
     },
     "output_type": "display_data"
    }
   ],
   "source": [
    "#H0=Average tips from male=Average tips from female\n",
    "#H1=Average tips from Male != Averge tips from female\n",
    "sns.catplot(data=df,x=\"sex\",y=\"total_bill\",kind=\"box\",legend=True,margin_titles=True)\n",
    "plt.show\n",
    "            "
   ]
  },
  {
   "cell_type": "code",
   "execution_count": 3,
   "metadata": {},
   "outputs": [
    {
     "name": "stdout",
     "output_type": "stream",
     "text": [
      "194    4.00\n",
      "60     3.21\n",
      "207    3.00\n",
      "216    3.00\n",
      "175    3.11\n",
      "       ... \n",
      "204    4.00\n",
      "62     1.98\n",
      "177    2.00\n",
      "83     5.00\n",
      "99     1.50\n",
      "Name: tip, Length: 87, dtype: float64\n",
      "************************************************************\n",
      "0      1.01\n",
      "4      3.61\n",
      "11     5.00\n",
      "14     3.02\n",
      "16     1.67\n",
      "       ... \n",
      "226    2.00\n",
      "229    2.88\n",
      "238    4.67\n",
      "240    2.00\n",
      "243    3.00\n",
      "Name: tip, Length: 87, dtype: float64\n"
     ]
    }
   ],
   "source": [
    "#Levenes Test\n",
    "m_tips=df.tip[df[\"sex\"]==\"Male\"]\n",
    "f_tips=df.tip[df[\"sex\"]==\"Female\"]\n",
    "m_tips=m_tips.sample(87,random_state=42)\n",
    "print(m_tips)\n",
    "print(\"*\"*60)\n",
    "print(f_tips)\n"
   ]
  },
  {
   "cell_type": "code",
   "execution_count": 4,
   "metadata": {},
   "outputs": [
    {
     "name": "stdout",
     "output_type": "stream",
     "text": [
      "1.8815738572574179\n"
     ]
    },
    {
     "data": {
      "text/plain": [
       "1.3444275060144346"
      ]
     },
     "execution_count": 4,
     "metadata": {},
     "output_type": "execute_result"
    }
   ],
   "source": [
    "x=st.variance(m_tips)\n",
    "y=st.variance(f_tips)\n",
    "print(x)\n",
    "y"
   ]
  },
  {
   "cell_type": "code",
   "execution_count": 5,
   "metadata": {},
   "outputs": [
    {
     "data": {
      "text/plain": [
       "LeveneResult(statistic=1.5545676897427736, pvalue=0.21415761299201896)"
      ]
     },
     "execution_count": 5,
     "metadata": {},
     "output_type": "execute_result"
    }
   ],
   "source": [
    "#Levenes Test to find out if variance is equal\n",
    "stats.levene(m_tips,f_tips)\n",
    "#since los is 5% and pvalue is 29% we do not reject H0, therefore, Variance is equal"
   ]
  },
  {
   "cell_type": "code",
   "execution_count": 6,
   "metadata": {},
   "outputs": [
    {
     "data": {
      "text/plain": [
       "ShapiroResult(statistic=0.9830676913261414, pvalue=0.3145478069782257)"
      ]
     },
     "execution_count": 6,
     "metadata": {},
     "output_type": "execute_result"
    },
    {
     "data": {
      "image/png": "[encoded data removed]",
      "text/plain": [
       "<Figure size 432x288 with 1 Axes>"
      ]
     },
     "metadata": {
      "needs_background": "light"
     },
     "output_type": "display_data"
    }
   ],
   "source": [
    "#Shapiro test to find if data follows Normal Distribution\n",
    "diff=np.array(f_tips)-np.array(m_tips)\n",
    "plt.hist(diff)\n",
    "plt.show\n",
    "stats.shapiro(diff)\n",
    "#Since p value in shapiro Test is greater than LOS 5% then we do not reject H0, so, data follows normal distribution"
   ]
  },
  {
   "cell_type": "code",
   "execution_count": 7,
   "metadata": {},
   "outputs": [
    {
     "data": {
      "text/plain": [
       "Ttest_indResult(statistic=1.4128835161635294, pvalue=0.15949697347119488)"
      ]
     },
     "execution_count": 7,
     "metadata": {},
     "output_type": "execute_result"
    }
   ],
   "source": [
    "stats.ttest_ind(m_tips,f_tips)\n",
    "#since two sample t test shows a p value of 15% against los 5% we do not reject H0, therefore Average tips \n",
    "#from male=Average tips from female"
   ]
  },
  {
   "cell_type": "code",
   "execution_count": 8,
   "metadata": {},
   "outputs": [
    {
     "data": {
      "text/plain": [
       "<function matplotlib.pyplot.show(close=None, block=None)>"
      ]
     },
     "execution_count": 8,
     "metadata": {},
     "output_type": "execute_result"
    },
    {
     "data": {
      "image/png": "[encoded data removed]",
      "text/plain": [
       "<Figure size 360x360 with 1 Axes>"
      ]
     },
     "metadata": {
      "needs_background": "light"
     },
     "output_type": "display_data"
    }
   ],
   "source": [
    "sns.catplot(data=df,x=\"sex\",y=\"total_bill\",kind=\"boxen\")\n",
    "plt.show\n",
    "        "
   ]
  },
  {
   "cell_type": "code",
   "execution_count": 9,
   "metadata": {},
   "outputs": [
    {
     "data": {
      "text/plain": [
       "<function matplotlib.pyplot.show(close=None, block=None)>"
      ]
     },
     "execution_count": 9,
     "metadata": {},
     "output_type": "execute_result"
    },
    {
     "data": {
      "image/png": "[encoded data removed]",
      "text/plain": [
       "<Figure size 360x360 with 1 Axes>"
      ]
     },
     "metadata": {
      "needs_background": "light"
     },
     "output_type": "display_data"
    }
   ],
   "source": [
    "sns.catplot(data=df,x=\"sex\",y=\"total_bill\",kind=\"violin\")\n",
    "sns.set_theme(style=\"ticks\")\n",
    "plt.show\n",
    "        "
   ]
  },
  {
   "cell_type": "code",
   "execution_count": 12,
   "metadata": {},
   "outputs": [
    {
     "name": "stdout",
     "output_type": "stream",
     "text": [
      "Collecting researchpy\n",
      "  Downloading researchpy-0.3.2-py3-none-any.whl (15 kB)\n",
      "Requirement already satisfied: pandas in c:\\users\\sohini\\anaconda3\\lib\\site-packages (from researchpy) (1.1.3)\n",
      "Requirement already satisfied: patsy in c:\\users\\sohini\\anaconda3\\lib\\site-packages (from researchpy) (0.5.1)\n",
      "Requirement already satisfied: scipy in c:\\users\\sohini\\anaconda3\\lib\\site-packages (from researchpy) (1.5.2)\n",
      "Requirement already satisfied: statsmodels in c:\\users\\sohini\\anaconda3\\lib\\site-packages (from researchpy) (0.12.0)\n",
      "Requirement already satisfied: numpy in c:\\users\\sohini\\anaconda3\\lib\\site-packages (from researchpy) (1.19.2)\n",
      "Requirement already satisfied: python-dateutil>=2.7.3 in c:\\users\\sohini\\anaconda3\\lib\\site-packages (from pandas->researchpy) (2.8.1)\n",
      "Requirement already satisfied: pytz>=2017.2 in c:\\users\\sohini\\anaconda3\\lib\\site-packages (from pandas->researchpy) (2020.1)\n",
      "Requirement already satisfied: six in c:\\users\\sohini\\anaconda3\\lib\\site-packages (from patsy->researchpy) (1.15.0)\n",
      "Installing collected packages: researchpy\n",
      "Successfully installed researchpy-0.3.2\n"
     ]
    }
   ],
   "source": [
    "!pip install researchpy"
   ]
  },
  {
   "cell_type": "code",
   "execution_count": 13,
   "metadata": {},
   "outputs": [],
   "source": [
    "import researchpy as rp\n"
   ]
  },
  {
   "cell_type": "code",
   "execution_count": 17,
   "metadata": {},
   "outputs": [
    {
     "data": {
      "text/plain": [
       "(   Variable      N      Mean        SD        SE  95% Conf.  Interval\n",
       " 0       tip   87.0  3.105517  1.371705  0.147062   2.813167  3.397867\n",
       " 1       tip   87.0  2.833448  1.159495  0.124311   2.586326  3.080570\n",
       " 2  combined  174.0  2.969483  1.273691  0.096558   2.778899  3.160067,\n",
       "           Independent t-test   results\n",
       " 0  Difference (tip - tip) =     0.2721\n",
       " 1      Degrees of freedom =   172.0000\n",
       " 2                       t =     1.4129\n",
       " 3   Two side test p value =     0.1595\n",
       " 4  Difference < 0 p value =     0.9203\n",
       " 5  Difference > 0 p value =     0.0797\n",
       " 6               Cohen's d =     0.2142\n",
       " 7               Hedge's g =     0.2133\n",
       " 8           Glass's delta =     0.1983\n",
       " 9             Pearson's r =     0.1071)"
      ]
     },
     "execution_count": 17,
     "metadata": {},
     "output_type": "execute_result"
    }
   ],
   "source": [
    "res=rp.ttest(m_tips,f_tips,equal_variances=True,paired=False)\n",
    "res"
   ]
  },
  {
   "cell_type": "code",
   "execution_count": null,
   "metadata": {},
   "outputs": [],
   "source": []
  }
 ],
 "metadata": {
  "kernelspec": {
   "display_name": "Python 3",
   "language": "python",
   "name": "python3"
  },
  "language_info": {
   "codemirror_mode": {
    "name": "ipython",
    "version": 3
   },
   "file_extension": ".py",
   "mimetype": "text/x-python",
   "name": "python",
   "nbconvert_exporter": "python",
   "pygments_lexer": "ipython3",
   "version": "3.8.5"
  }
 },
 "nbformat": 4,
 "nbformat_minor": 4
}
